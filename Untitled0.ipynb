{
  "nbformat": 4,
  "nbformat_minor": 0,
  "metadata": {
    "colab": {
      "provenance": [],
      "authorship_tag": "ABX9TyOb2JovNlkN2+riD6NHaF6X",
      "include_colab_link": true
    },
    "kernelspec": {
      "name": "python3",
      "display_name": "Python 3"
    },
    "language_info": {
      "name": "python"
    }
  },
  "cells": [
    {
      "cell_type": "markdown",
      "metadata": {
        "id": "view-in-github",
        "colab_type": "text"
      },
      "source": [
        "<a href=\"https://colab.research.google.com/github/francinesanto/chatIA/blob/main/Untitled0.ipynb\" target=\"_parent\"><img src=\"https://colab.research.google.com/assets/colab-badge.svg\" alt=\"Open In Colab\"/></a>"
      ]
    },
    {
      "cell_type": "markdown",
      "source": [
        "Instalando SDK do Google"
      ],
      "metadata": {
        "id": "kGRAH3OcAkf9"
      }
    },
    {
      "cell_type": "code",
      "source": [
        "!pip install -q -U google-generativeai"
      ],
      "metadata": {
        "id": "HSIjKe06Ah9m"
      },
      "execution_count": 1,
      "outputs": []
    },
    {
      "cell_type": "code",
      "source": [
        "# Import the Python SDK\n",
        "import google.generativeai as genai\n",
        "# Used to securely store your API key\n",
        "from google.colab import userdata\n",
        "\n",
        "from google.colab import userdata\n",
        "userdata.get('secretName')\n",
        "\n",
        "GOOGLE_API_KEY='secretName'\n",
        "genai.configure(api_key=GOOGLE_API_KEY)"
      ],
      "metadata": {
        "id": "n927A6zjBegr"
      },
      "execution_count": 2,
      "outputs": []
    },
    {
      "cell_type": "markdown",
      "source": [
        "Listar os modelos disponíveis"
      ],
      "metadata": {
        "id": "Y_n8NYkfCEr6"
      }
    },
    {
      "cell_type": "code",
      "source": [
        "for model in genai.list_models():\n",
        " if 'generateContent' in  model.supported_generation_methods:\n",
        "  print(model.name)"
      ],
      "metadata": {
        "colab": {
          "base_uri": "https://localhost:8080/",
          "height": 139
        },
        "id": "Ny5kEEatCHyF",
        "outputId": "c0d3ccd2-b6a9-4773-b6e1-b9b2f62f24b5"
      },
      "execution_count": 3,
      "outputs": [
        {
          "output_type": "stream",
          "name": "stdout",
          "text": [
            "models/gemini-1.0-pro\n",
            "models/gemini-1.0-pro-001\n",
            "models/gemini-1.0-pro-latest\n",
            "models/gemini-1.0-pro-vision-latest\n",
            "models/gemini-1.5-pro-latest\n",
            "models/gemini-pro\n",
            "models/gemini-pro-vision\n"
          ]
        }
      ]
    },
    {
      "cell_type": "markdown",
      "source": [
        "Configuração do model"
      ],
      "metadata": {
        "id": "TXnAEFrRHZcR"
      }
    },
    {
      "cell_type": "code",
      "source": [
        "generation_config = {\n",
        "    'candidate_count': 1,\n",
        "    'temperature': 0.5,\n",
        "}"
      ],
      "metadata": {
        "id": "bc28DK80Fpsc"
      },
      "execution_count": 4,
      "outputs": []
    },
    {
      "cell_type": "markdown",
      "source": [
        "Configurações de segurança"
      ],
      "metadata": {
        "id": "iZ9xGvJNHe6Q"
      }
    },
    {
      "cell_type": "code",
      "source": [
        "safety_settings = {\n",
        "    \"HARASSMENT\": \"BLOCK_NONE\",\n",
        "    \"HATE\": \"BLOCK_NONE\",\n",
        "    \"SEXUAL\": \"BLOCK_NONE\",\n",
        "    \"DANGEROUS\": \"BLOCK_NONE\",\n",
        "}"
      ],
      "metadata": {
        "id": "rQ2ETLSGHA_w"
      },
      "execution_count": 5,
      "outputs": []
    },
    {
      "cell_type": "markdown",
      "source": [
        "Inicializando o Modelo"
      ],
      "metadata": {
        "id": "vtz9D0tqLguI"
      }
    },
    {
      "cell_type": "code",
      "source": [
        "model  = genai.GenerativeModel(model_name=\"gemini-1.0-pro\",\n",
        "                               generation_config= generation_config,\n",
        "                               safety_settings= safety_settings)"
      ],
      "metadata": {
        "id": "XDd4SKQnLkBJ"
      },
      "execution_count": 6,
      "outputs": []
    },
    {
      "cell_type": "code",
      "source": [
        "response = model.generate_content(\"some 1 + 1\")\n",
        "print(response.text)"
      ],
      "metadata": {
        "colab": {
          "base_uri": "https://localhost:8080/",
          "height": 34
        },
        "id": "AlRx6iDjMKoI",
        "outputId": "565ab2e7-c9ea-41d2-b7ed-26f8b201704a"
      },
      "execution_count": 7,
      "outputs": [
        {
          "output_type": "stream",
          "name": "stdout",
          "text": [
            "2\n"
          ]
        }
      ]
    },
    {
      "cell_type": "markdown",
      "source": [
        "Iniciar chat"
      ],
      "metadata": {
        "id": "9Sw2wbkeM8Mz"
      }
    },
    {
      "cell_type": "code",
      "source": [
        "chat = model.start_chat(history=[])"
      ],
      "metadata": {
        "id": "QGIk8SpRM9wi"
      },
      "execution_count": 10,
      "outputs": []
    },
    {
      "cell_type": "code",
      "source": [
        "prompt = input(\"Esperando prompt: \")\n",
        "\n",
        "while prompt != 'fim':\n",
        "  response = chat.send_message(prompt)\n",
        "  print('Resposta ', response.text, \"\\n\")\n",
        "  prompt = input(\"Esperando prompt: \")\n"
      ],
      "metadata": {
        "colab": {
          "base_uri": "https://localhost:8080/",
          "height": 558
        },
        "collapsed": true,
        "id": "S-S73EWDNqX_",
        "outputId": "16999516-f6de-47df-9b9c-652c8fe19174"
      },
      "execution_count": 11,
      "outputs": [
        {
          "name": "stdout",
          "output_type": "stream",
          "text": [
            "Esperando prompt: a cidade campinas pertence a qual estado?\n",
            "Resposta  São Paulo \n",
            "\n",
            "Esperando prompt: nessa cidade, existem quantas cidades?\n",
            "Resposta  Campinas é uma cidade, não um estado. Portanto, não existem outras cidades dentro dela. \n",
            "\n",
            "Esperando prompt: e em são paulo?\n",
            "Resposta  O estado de São Paulo possui 645 municípios, incluindo a capital, São Paulo. \n",
            "\n",
            "Esperando prompt: quanto tempo dura um resfriado?\n",
            "Resposta  Um resfriado comum geralmente dura de 7 a 10 dias. No entanto, algumas pessoas podem apresentar sintomas por até 2 semanas.\n",
            "\n",
            "**Estágios de um resfriado:**\n",
            "\n",
            "* **Estágio 1 (incubação):** 1-3 dias após a exposição ao vírus, sem sintomas.\n",
            "* **Estágio 2 (prodromal):** 1-2 dias com sintomas leves, como dor de garganta e nariz escorrendo.\n",
            "* **Estágio 3 (agudo):** 3-4 dias com sintomas mais intensos, como febre, tosse e congestão nasal.\n",
            "* **Estágio 4 (convalescença):** 3-4 dias com sintomas diminuindo gradualmente.\n",
            "\n",
            "É importante observar que a duração e a gravidade dos sintomas podem variar dependendo da pessoa e do tipo de vírus do resfriado. \n",
            "\n",
            "Esperando prompt: entendo\n",
            "Resposta  Fico feliz em ajudar! Se você tiver mais alguma dúvida sobre saúde ou outros tópicos, fique à vontade para perguntar. \n",
            "\n",
            "Esperando prompt: quantas pessoas tem gripe em campinas por mes\n",
            "Resposta  Não tenho acesso a dados em tempo real sobre o número de pessoas com gripe em Campinas por mês. No entanto, de acordo com o último Boletim Epidemiológico do Ministério da Saúde, divulgado em 24 de fevereiro de 2023, Campinas registrou 2.306 casos confirmados de Síndrome Gripal (SG) e 11 óbitos por Influenza no período de 29 de janeiro a 18 de fevereiro de 2023.\n",
            "\n",
            "Para obter dados mais atualizados, você pode consultar o site da Secretaria Municipal de Saúde de Campinas ou entrar em contato diretamente com o órgão. \n",
            "\n",
            "Esperando prompt: fim\n"
          ]
        }
      ]
    }
  ]
}